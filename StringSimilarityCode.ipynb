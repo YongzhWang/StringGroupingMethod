{
 "cells": [
  {
   "cell_type": "code",
   "execution_count": 1,
   "id": "c050f960-1024-4f10-b695-34cd6f0ba731",
   "metadata": {},
   "outputs": [
    {
     "name": "stderr",
     "output_type": "stream",
     "text": [
      "/nas/longleaf/home/yongzhe/.local/lib/python3.9/site-packages/pandas/core/computation/expressions.py:21: UserWarning: Pandas requires version '2.8.0' or newer of 'numexpr' (version '2.7.3' currently installed).\n",
      "  from pandas.core.computation.check import NUMEXPR_INSTALLED\n",
      "/nas/longleaf/home/yongzhe/.local/lib/python3.9/site-packages/pandas/core/arrays/masked.py:62: UserWarning: Pandas requires version '1.3.4' or newer of 'bottleneck' (version '1.3.2' currently installed).\n",
      "  from pandas.core import (\n"
     ]
    }
   ],
   "source": [
    "import pandas as pd\n",
    "pd.set_option('display.max_columns', None)\n",
    "df=pd.read_csv(\"SampleSchoolData.csv\")"
   ]
  },
  {
   "cell_type": "code",
   "execution_count": 70,
   "id": "ef3ad28a-4971-44c6-9d37-8d0d378791e6",
   "metadata": {},
   "outputs": [],
   "source": [
    "##Solve the problem with K-Means that needs clusters\n",
    "from sklearn.metrics import jaccard_score\n",
    "from itertools import combinations\n",
    "import numpy as np\n",
    "\n",
    "def tokenize(string):\n",
    "    return set(string.lower().split())\n",
    "\n",
    "def calculate_jaccard_similarity(str1, str2):\n",
    "    tokens1 = tokenize(str1)\n",
    "    tokens2 = tokenize(str2)\n",
    "    intersection = tokens1.intersection(tokens2)\n",
    "    union = tokens1.union(tokens2)\n",
    "    return len(intersection) / len(union)\n",
    "\n",
    "def group_similar_strings(strings, threshold=0.5):\n",
    "    groups = []\n",
    "    for string in strings:\n",
    "        added = False\n",
    "        for group in groups:\n",
    "            if any(calculate_jaccard_similarity(string, s) >= threshold for s in group):\n",
    "                group.append(string)\n",
    "                added = True\n",
    "                break\n",
    "        if not added:\n",
    "            groups.append([string])\n",
    "    return groups\n"
   ]
  },
  {
   "cell_type": "code",
   "execution_count": 77,
   "id": "d8f92748-ea7b-4b0a-a7a9-ce9f32db7ab2",
   "metadata": {},
   "outputs": [],
   "source": [
    "from collections import defaultdict\n",
    "\n",
    "def group_by_location(df, strings_col, lat_col, long_col):\n",
    "    location_groups = defaultdict(list)\n",
    "    for idx, row in df.iterrows():\n",
    "        rounded_lat = round(row[lat_col])\n",
    "        rounded_long = round(row[long_col])\n",
    "        location_key = (rounded_lat, rounded_long)\n",
    "        location_groups[location_key].append(row[strings_col])\n",
    "    return location_groups\n",
    "\n",
    "def apply_jaccard_within_groups(location_groups, threshold=0.5):\n",
    "    grouped_strings = []\n",
    "    for location, strings in location_groups.items():\n",
    "        grouped_strings.extend(group_similar_strings(strings, threshold))\n",
    "    return grouped_strings\n"
   ]
  },
  {
   "cell_type": "code",
   "execution_count": 86,
   "id": "3eb47c4d-4ae4-4623-be06-2467c6dbc879",
   "metadata": {},
   "outputs": [],
   "source": [
    "def assign_group_numbers_to_df(df, strings_col, lat_col, long_col, threshold=0.5):\n",
    "    # Group by location\n",
    "    location_groups = group_by_location(df, strings_col, lat_col, long_col)\n",
    "\n",
    "    # Apply Jaccard Index within groups and assign group numbers\n",
    "    final_groups = {}\n",
    "    group_number = 1\n",
    "    for location, strings in location_groups.items():\n",
    "        jaccard_groups = group_similar_strings(strings, threshold)\n",
    "        for group in jaccard_groups:\n",
    "            for address in group:\n",
    "                final_groups[address] = group_number\n",
    "            group_number += 1\n",
    "\n",
    "    # Map group numbers back to the df\n",
    "    df['Group_Number'] = df[strings_col].map(final_groups)\n",
    "    return df\n",
    "\n",
    "grouped_df = assign_group_numbers_to_df(dist, 'Address', 'Latitude', 'Longitude', threshold=0.7)\n"
   ]
  },
  {
   "cell_type": "code",
   "execution_count": 93,
   "id": "78c06b02-47e0-482c-a699-31540555a56b",
   "metadata": {},
   "outputs": [
    {
     "data": {
      "image/png": "[encoded data removed]",
      "text/plain": [
       "<Figure size 432x288 with 1 Axes>"
      ]
     },
     "metadata": {
      "needs_background": "light"
     },
     "output_type": "display_data"
    }
   ],
   "source": [
    "import matplotlib.pyplot as plt\n",
    "def calculate_jaccard_similarity(str1, str2):\n",
    "    \"\"\" Calculate Jaccard Similarity between two strings \"\"\"\n",
    "    tokens1 = set(str1.lower().split())\n",
    "    tokens2 = set(str2.lower().split())\n",
    "    intersection = tokens1.intersection(tokens2)\n",
    "    union = tokens1.union(tokens2)\n",
    "    return len(intersection) / len(union) if len(union) > 0 else 0\n",
    "\n",
    "def calculate_similarity_distribution_above_threshold(df, strings_col, lat_col, long_col, threshold=0.5):\n",
    "    # Store all similarity scores above the threshold\n",
    "    similarity_scores = []\n",
    "\n",
    "    # Apply the grouping logic\n",
    "    location_groups = group_by_location(df, strings_col, lat_col, long_col)\n",
    "    for _, strings in location_groups.items():\n",
    "        jaccard_groups = group_similar_strings(strings, threshold)\n",
    "        for group in jaccard_groups:\n",
    "            pairs = combinations(group, 2)  # Get all pairs in the group\n",
    "            for pair in pairs:\n",
    "                score = calculate_jaccard_similarity(*pair)\n",
    "                if score > threshold:\n",
    "                    similarity_scores.append(score)\n",
    "\n",
    "    return similarity_scores\n",
    "\n",
    "def plot_similarity_distribution(similarity_scores):\n",
    "    # Plotting the distribution of similarity scores\n",
    "    plt.figure(figsize=(15, 10))\n",
    "    plt.hist(similarity_scores, bins=100, edgecolor='black')\n",
    "    plt.xlabel('Jaccard Similarity Score')\n",
    "    plt.ylabel('Frequency')\n",
    "    plt.title('Distribution of Jaccard Similarity Scores Above Threshold')\n",
    "    plt.savefig('Distribution_JaccardScore.jpg', format='jpg')\n",
    "    plt.show()\n",
    "\n",
    "    \n",
    "similarity_scores_above_threshold = calculate_similarity_distribution_above_threshold(dist, 'Address', 'Latitude', 'Longitude', threshold=0.7)\n",
    "plot_similarity_distribution(similarity_scores_above_threshold)\n"
   ]
  },
  {
   "cell_type": "code",
   "execution_count": 104,
   "id": "aad6f669-fa0c-4f13-92a0-55184b81c85b",
   "metadata": {},
   "outputs": [],
   "source": [
    "grouped_df['SCHOOL_UNITED'] = grouped_df.groupby('Group_Number')['SCHOOL'].transform('first')"
   ]
  },
  {
   "cell_type": "code",
   "execution_count": 10,
   "id": "958ed3dc-74d1-4368-8136-a1266e838c48",
   "metadata": {},
   "outputs": [
    {
     "ename": "NameError",
     "evalue": "name 'grouped_df' is not defined",
     "output_type": "error",
     "traceback": [
      "\u001b[0;31m---------------------------------------------------------------------------\u001b[0m",
      "\u001b[0;31mNameError\u001b[0m                                 Traceback (most recent call last)",
      "\u001b[0;32m/tmp/ipykernel_1967340/887633576.py\u001b[0m in \u001b[0;36m<module>\u001b[0;34m\u001b[0m\n\u001b[0;32m----> 1\u001b[0;31m \u001b[0mgrouped_df\u001b[0m\u001b[0;34m\u001b[0m\u001b[0;34m\u001b[0m\u001b[0m\n\u001b[0m",
      "\u001b[0;31mNameError\u001b[0m: name 'grouped_df' is not defined"
     ]
    }
   ],
   "source": [
    "grouped_df"
   ]
  }
 ],
 "metadata": {
  "kernelspec": {
   "display_name": "Python 3 (ipykernel)",
   "language": "python",
   "name": "python3"
  },
  "language_info": {
   "codemirror_mode": {
    "name": "ipython",
    "version": 3
   },
   "file_extension": ".py",
   "mimetype": "text/x-python",
   "name": "python",
   "nbconvert_exporter": "python",
   "pygments_lexer": "ipython3",
   "version": "3.9.7"
  }
 },
 "nbformat": 4,
 "nbformat_minor": 5
}
